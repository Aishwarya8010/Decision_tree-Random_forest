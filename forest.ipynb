{
 "cells": [
  {
   "cell_type": "code",
   "execution_count": 50,
   "id": "747e53c4",
   "metadata": {},
   "outputs": [],
   "source": [
    "##### Imporating of liabarary----\n",
    "import pandas as pd\n",
    "import seaborn as sns\n",
    "import matplotlib.pyplot as plt\n",
    "from sklearn.model_selection import train_test_split"
   ]
  },
  {
   "cell_type": "code",
   "execution_count": 2,
   "id": "7d448198",
   "metadata": {},
   "outputs": [
    {
     "name": "stdout",
     "output_type": "stream",
     "text": [
      "  month  day  FFMC   DMC     DC  ISI  temp  RH  wind size_category\n",
      "0   mar  fri  86.2  26.2   94.3  5.1   8.2  51   6.7         small\n",
      "1   oct  tue  90.6  35.4  669.1  6.7  18.0  33   0.9         small\n",
      "2   oct  sat  90.6  43.7  686.9  6.7  14.6  33   1.3         small\n",
      "3   mar  fri  91.7  33.3   77.5  9.0   8.3  97   4.0         small\n",
      "4   mar  sun  89.3  51.3  102.2  9.6  11.4  99   1.8         small\n"
     ]
    }
   ],
   "source": [
    "data = pd.read_csv('forest.csv')\n",
    "print(data.head())"
   ]
  },
  {
   "cell_type": "code",
   "execution_count": 4,
   "id": "aa38af7d",
   "metadata": {},
   "outputs": [
    {
     "name": "stdout",
     "output_type": "stream",
     "text": [
      "Index(['month', 'day', 'FFMC', 'DMC', 'DC', 'ISI', 'temp', 'RH', 'wind',\n",
      "       'size_category'],\n",
      "      dtype='object')\n",
      "month             object\n",
      "day               object\n",
      "FFMC             float64\n",
      "DMC              float64\n",
      "DC               float64\n",
      "ISI              float64\n",
      "temp             float64\n",
      "RH                 int64\n",
      "wind             float64\n",
      "size_category     object\n",
      "dtype: object\n"
     ]
    }
   ],
   "source": [
    "print(data.columns)\n",
    "print(data.dtypes)"
   ]
  },
  {
   "cell_type": "code",
   "execution_count": 5,
   "id": "7bf59d20",
   "metadata": {},
   "outputs": [
    {
     "name": "stdout",
     "output_type": "stream",
     "text": [
      "['small' 'large']\n"
     ]
    }
   ],
   "source": [
    "print(data.size_category.unique())"
   ]
  },
  {
   "cell_type": "code",
   "execution_count": 6,
   "id": "bd6cde9c",
   "metadata": {},
   "outputs": [
    {
     "data": {
      "text/plain": [
       "(517, 10)"
      ]
     },
     "execution_count": 6,
     "metadata": {},
     "output_type": "execute_result"
    }
   ],
   "source": [
    "data.shape"
   ]
  },
  {
   "cell_type": "code",
   "execution_count": 32,
   "id": "32abaf27",
   "metadata": {},
   "outputs": [],
   "source": [
    "x = data[['FFMC','DMC','DC','ISI','temp','RH','wind','RH']]\n",
    "y = data['size_category']"
   ]
  },
  {
   "cell_type": "code",
   "execution_count": 33,
   "id": "c83fbc99",
   "metadata": {},
   "outputs": [],
   "source": [
    "x_train,x_test,y_train,y_test = train_test_split(x,y,test_size = 0.3)"
   ]
  },
  {
   "cell_type": "code",
   "execution_count": 41,
   "id": "a5cfe648",
   "metadata": {},
   "outputs": [],
   "source": [
    "from sklearn.tree import DecisionTreeClassifier\n",
    "from sklearn.metrics import confusion_matrix, ConfusionMatrixDisplay,classification_report,accuracy_score\n",
    "from sklearn import tree"
   ]
  },
  {
   "cell_type": "code",
   "execution_count": 43,
   "id": "f2b59c6e",
   "metadata": {},
   "outputs": [],
   "source": [
    "model = DecisionTreeClassifier()\n",
    "clf =model.fit(x_train,y_train)"
   ]
  },
  {
   "cell_type": "code",
   "execution_count": 45,
   "id": "a36dbc0b",
   "metadata": {
    "collapsed": true
   },
   "outputs": [
    {
     "data": {
      "text/plain": [
       "[Text(0.5140824044585988, 0.9705882352941176, 'x[4] <= 4.95\\ngini = 0.403\\nsamples = 361\\nvalue = [101, 260]'),\n",
       " Text(0.4171974522292994, 0.9117647058823529, 'x[1] <= 27.35\\ngini = 0.245\\nsamples = 7\\nvalue = [6, 1]'),\n",
       " Text(0.40445859872611467, 0.8529411764705882, 'gini = 0.0\\nsamples = 6\\nvalue = [6, 0]'),\n",
       " Text(0.4299363057324841, 0.8529411764705882, 'gini = 0.0\\nsamples = 1\\nvalue = [0, 1]'),\n",
       " Text(0.6109673566878981, 0.9117647058823529, 'x[4] <= 19.85\\ngini = 0.393\\nsamples = 354\\nvalue = [95, 259]'),\n",
       " Text(0.4554140127388535, 0.8529411764705882, 'x[1] <= 151.45\\ngini = 0.332\\nsamples = 195\\nvalue = [41, 154]'),\n",
       " Text(0.33121019108280253, 0.7941176470588235, 'x[1] <= 118.45\\ngini = 0.354\\nsamples = 174\\nvalue = [40, 134]'),\n",
       " Text(0.12101910828025478, 0.7352941176470589, 'x[6] <= 2.9\\ngini = 0.304\\nsamples = 134\\nvalue = [25, 109]'),\n",
       " Text(0.03821656050955414, 0.6764705882352942, 'x[2] <= 56.5\\ngini = 0.108\\nsamples = 35\\nvalue = [2, 33]'),\n",
       " Text(0.025477707006369428, 0.6176470588235294, 'x[6] <= 2.0\\ngini = 0.444\\nsamples = 6\\nvalue = [2, 4]'),\n",
       " Text(0.012738853503184714, 0.5588235294117647, 'gini = 0.0\\nsamples = 3\\nvalue = [0, 3]'),\n",
       " Text(0.03821656050955414, 0.5588235294117647, 'x[1] <= 16.4\\ngini = 0.444\\nsamples = 3\\nvalue = [2, 1]'),\n",
       " Text(0.025477707006369428, 0.5, 'gini = 0.0\\nsamples = 2\\nvalue = [2, 0]'),\n",
       " Text(0.050955414012738856, 0.5, 'gini = 0.0\\nsamples = 1\\nvalue = [0, 1]'),\n",
       " Text(0.050955414012738856, 0.6176470588235294, 'gini = 0.0\\nsamples = 29\\nvalue = [0, 29]'),\n",
       " Text(0.20382165605095542, 0.6764705882352942, 'x[2] <= 55.1\\ngini = 0.357\\nsamples = 99\\nvalue = [23, 76]'),\n",
       " Text(0.1910828025477707, 0.6176470588235294, 'gini = 0.0\\nsamples = 11\\nvalue = [0, 11]'),\n",
       " Text(0.21656050955414013, 0.6176470588235294, 'x[4] <= 17.05\\ngini = 0.386\\nsamples = 88\\nvalue = [23, 65]'),\n",
       " Text(0.14012738853503184, 0.5588235294117647, 'x[0] <= 90.05\\ngini = 0.457\\nsamples = 51\\nvalue = [18, 33]'),\n",
       " Text(0.07643312101910828, 0.5, 'x[4] <= 7.85\\ngini = 0.311\\nsamples = 26\\nvalue = [5, 21]'),\n",
       " Text(0.050955414012738856, 0.4411764705882353, 'x[0] <= 84.65\\ngini = 0.48\\nsamples = 5\\nvalue = [3, 2]'),\n",
       " Text(0.03821656050955414, 0.38235294117647056, 'x[1] <= 17.75\\ngini = 0.444\\nsamples = 3\\nvalue = [1, 2]'),\n",
       " Text(0.025477707006369428, 0.3235294117647059, 'gini = 0.5\\nsamples = 2\\nvalue = [1, 1]'),\n",
       " Text(0.050955414012738856, 0.3235294117647059, 'gini = 0.0\\nsamples = 1\\nvalue = [0, 1]'),\n",
       " Text(0.06369426751592357, 0.38235294117647056, 'gini = 0.0\\nsamples = 2\\nvalue = [2, 0]'),\n",
       " Text(0.10191082802547771, 0.4411764705882353, 'x[3] <= 6.7\\ngini = 0.172\\nsamples = 21\\nvalue = [2, 19]'),\n",
       " Text(0.08917197452229299, 0.38235294117647056, 'gini = 0.0\\nsamples = 13\\nvalue = [0, 13]'),\n",
       " Text(0.11464968152866242, 0.38235294117647056, 'x[6] <= 5.6\\ngini = 0.375\\nsamples = 8\\nvalue = [2, 6]'),\n",
       " Text(0.10191082802547771, 0.3235294117647059, 'gini = 0.0\\nsamples = 4\\nvalue = [0, 4]'),\n",
       " Text(0.12738853503184713, 0.3235294117647059, 'x[7] <= 75.5\\ngini = 0.5\\nsamples = 4\\nvalue = [2, 2]'),\n",
       " Text(0.11464968152866242, 0.2647058823529412, 'x[5] <= 56.0\\ngini = 0.444\\nsamples = 3\\nvalue = [2, 1]'),\n",
       " Text(0.10191082802547771, 0.20588235294117646, 'gini = 0.5\\nsamples = 2\\nvalue = [1, 1]'),\n",
       " Text(0.12738853503184713, 0.20588235294117646, 'gini = 0.0\\nsamples = 1\\nvalue = [1, 0]'),\n",
       " Text(0.14012738853503184, 0.2647058823529412, 'gini = 0.0\\nsamples = 1\\nvalue = [0, 1]'),\n",
       " Text(0.20382165605095542, 0.5, 'x[4] <= 15.3\\ngini = 0.499\\nsamples = 25\\nvalue = [13, 12]'),\n",
       " Text(0.17834394904458598, 0.4411764705882353, 'x[6] <= 4.45\\ngini = 0.391\\nsamples = 15\\nvalue = [4, 11]'),\n",
       " Text(0.16560509554140126, 0.38235294117647056, 'x[4] <= 11.05\\ngini = 0.49\\nsamples = 7\\nvalue = [4, 3]'),\n",
       " Text(0.15286624203821655, 0.3235294117647059, 'gini = 0.0\\nsamples = 3\\nvalue = [0, 3]'),\n",
       " Text(0.17834394904458598, 0.3235294117647059, 'gini = 0.0\\nsamples = 4\\nvalue = [4, 0]'),\n",
       " Text(0.1910828025477707, 0.38235294117647056, 'gini = 0.0\\nsamples = 8\\nvalue = [0, 8]'),\n",
       " Text(0.22929936305732485, 0.4411764705882353, 'x[3] <= 14.45\\ngini = 0.18\\nsamples = 10\\nvalue = [9, 1]'),\n",
       " Text(0.21656050955414013, 0.38235294117647056, 'gini = 0.0\\nsamples = 9\\nvalue = [9, 0]'),\n",
       " Text(0.24203821656050956, 0.38235294117647056, 'gini = 0.0\\nsamples = 1\\nvalue = [0, 1]'),\n",
       " Text(0.2929936305732484, 0.5588235294117647, 'x[2] <= 74.0\\ngini = 0.234\\nsamples = 37\\nvalue = [5, 32]'),\n",
       " Text(0.2802547770700637, 0.5, 'gini = 0.0\\nsamples = 1\\nvalue = [1, 0]'),\n",
       " Text(0.3057324840764331, 0.5, 'x[4] <= 19.25\\ngini = 0.198\\nsamples = 36\\nvalue = [4, 32]'),\n",
       " Text(0.2802547770700637, 0.4411764705882353, 'x[6] <= 3.35\\ngini = 0.067\\nsamples = 29\\nvalue = [1, 28]'),\n",
       " Text(0.267515923566879, 0.38235294117647056, 'x[4] <= 18.3\\ngini = 0.375\\nsamples = 4\\nvalue = [1, 3]'),\n",
       " Text(0.25477707006369427, 0.3235294117647059, 'gini = 0.0\\nsamples = 3\\nvalue = [0, 3]'),\n",
       " Text(0.2802547770700637, 0.3235294117647059, 'gini = 0.0\\nsamples = 1\\nvalue = [1, 0]'),\n",
       " Text(0.2929936305732484, 0.38235294117647056, 'gini = 0.0\\nsamples = 25\\nvalue = [0, 25]'),\n",
       " Text(0.33121019108280253, 0.4411764705882353, 'x[1] <= 93.2\\ngini = 0.49\\nsamples = 7\\nvalue = [3, 4]'),\n",
       " Text(0.3184713375796178, 0.38235294117647056, 'gini = 0.0\\nsamples = 2\\nvalue = [0, 2]'),\n",
       " Text(0.34394904458598724, 0.38235294117647056, 'x[3] <= 12.05\\ngini = 0.48\\nsamples = 5\\nvalue = [3, 2]'),\n",
       " Text(0.33121019108280253, 0.3235294117647059, 'gini = 0.0\\nsamples = 2\\nvalue = [2, 0]'),\n",
       " Text(0.35668789808917195, 0.3235294117647059, 'x[6] <= 5.85\\ngini = 0.444\\nsamples = 3\\nvalue = [1, 2]'),\n",
       " Text(0.34394904458598724, 0.2647058823529412, 'gini = 0.0\\nsamples = 1\\nvalue = [0, 1]'),\n",
       " Text(0.36942675159235666, 0.2647058823529412, 'gini = 0.5\\nsamples = 2\\nvalue = [1, 1]'),\n",
       " Text(0.5414012738853503, 0.7352941176470589, 'x[0] <= 92.65\\ngini = 0.469\\nsamples = 40\\nvalue = [15, 25]'),\n",
       " Text(0.5095541401273885, 0.6764705882352942, 'x[3] <= 8.8\\ngini = 0.415\\nsamples = 34\\nvalue = [10, 24]'),\n",
       " Text(0.4840764331210191, 0.6176470588235294, 'x[4] <= 19.05\\ngini = 0.495\\nsamples = 20\\nvalue = [9, 11]'),\n",
       " Text(0.4713375796178344, 0.5588235294117647, 'x[4] <= 18.6\\ngini = 0.5\\nsamples = 18\\nvalue = [9, 9]'),\n",
       " Text(0.4585987261146497, 0.5, 'x[7] <= 58.5\\ngini = 0.492\\nsamples = 16\\nvalue = [7, 9]'),\n",
       " Text(0.43312101910828027, 0.4411764705882353, 'x[1] <= 129.8\\ngini = 0.42\\nsamples = 10\\nvalue = [3, 7]'),\n",
       " Text(0.42038216560509556, 0.38235294117647056, 'x[6] <= 2.65\\ngini = 0.5\\nsamples = 6\\nvalue = [3, 3]'),\n",
       " Text(0.40764331210191085, 0.3235294117647059, 'x[4] <= 18.0\\ngini = 0.375\\nsamples = 4\\nvalue = [1, 3]'),\n",
       " Text(0.39490445859872614, 0.2647058823529412, 'gini = 0.0\\nsamples = 3\\nvalue = [0, 3]'),\n",
       " Text(0.42038216560509556, 0.2647058823529412, 'gini = 0.0\\nsamples = 1\\nvalue = [1, 0]'),\n",
       " Text(0.43312101910828027, 0.3235294117647059, 'gini = 0.0\\nsamples = 2\\nvalue = [2, 0]'),\n",
       " Text(0.445859872611465, 0.38235294117647056, 'gini = 0.0\\nsamples = 4\\nvalue = [0, 4]'),\n",
       " Text(0.4840764331210191, 0.4411764705882353, 'x[1] <= 129.8\\ngini = 0.444\\nsamples = 6\\nvalue = [4, 2]'),\n",
       " Text(0.4713375796178344, 0.38235294117647056, 'x[5] <= 61.5\\ngini = 0.5\\nsamples = 4\\nvalue = [2, 2]'),\n",
       " Text(0.4585987261146497, 0.3235294117647059, 'gini = 0.0\\nsamples = 2\\nvalue = [2, 0]'),\n",
       " Text(0.4840764331210191, 0.3235294117647059, 'gini = 0.0\\nsamples = 2\\nvalue = [0, 2]'),\n",
       " Text(0.4968152866242038, 0.38235294117647056, 'gini = 0.0\\nsamples = 2\\nvalue = [2, 0]'),\n",
       " Text(0.4840764331210191, 0.5, 'gini = 0.0\\nsamples = 2\\nvalue = [2, 0]'),\n",
       " Text(0.4968152866242038, 0.5588235294117647, 'gini = 0.0\\nsamples = 2\\nvalue = [0, 2]'),\n",
       " Text(0.535031847133758, 0.6176470588235294, 'x[6] <= 5.6\\ngini = 0.133\\nsamples = 14\\nvalue = [1, 13]'),\n",
       " Text(0.5222929936305732, 0.5588235294117647, 'gini = 0.0\\nsamples = 12\\nvalue = [0, 12]'),\n",
       " Text(0.5477707006369427, 0.5588235294117647, 'x[6] <= 6.05\\ngini = 0.5\\nsamples = 2\\nvalue = [1, 1]'),\n",
       " Text(0.535031847133758, 0.5, 'gini = 0.0\\nsamples = 1\\nvalue = [1, 0]'),\n",
       " Text(0.5605095541401274, 0.5, 'gini = 0.0\\nsamples = 1\\nvalue = [0, 1]'),\n",
       " Text(0.5732484076433121, 0.6764705882352942, 'x[3] <= 17.1\\ngini = 0.278\\nsamples = 6\\nvalue = [5, 1]'),\n",
       " Text(0.5605095541401274, 0.6176470588235294, 'gini = 0.0\\nsamples = 4\\nvalue = [4, 0]'),\n",
       " Text(0.5859872611464968, 0.6176470588235294, 'x[4] <= 11.35\\ngini = 0.5\\nsamples = 2\\nvalue = [1, 1]'),\n",
       " Text(0.5732484076433121, 0.5588235294117647, 'gini = 0.0\\nsamples = 1\\nvalue = [1, 0]'),\n",
       " Text(0.5987261146496815, 0.5588235294117647, 'gini = 0.0\\nsamples = 1\\nvalue = [0, 1]'),\n",
       " Text(0.5796178343949044, 0.7941176470588235, 'x[4] <= 10.35\\ngini = 0.091\\nsamples = 21\\nvalue = [1, 20]'),\n",
       " Text(0.5668789808917197, 0.7352941176470589, 'gini = 0.0\\nsamples = 1\\nvalue = [1, 0]'),\n",
       " Text(0.5923566878980892, 0.7352941176470589, 'gini = 0.0\\nsamples = 20\\nvalue = [0, 20]'),\n",
       " Text(0.7665207006369427, 0.8529411764705882, 'x[4] <= 20.25\\ngini = 0.449\\nsamples = 159\\nvalue = [54, 105]'),\n",
       " Text(0.7173566878980892, 0.7941176470588235, 'x[0] <= 94.55\\ngini = 0.245\\nsamples = 7\\nvalue = [6, 1]'),\n",
       " Text(0.7046178343949044, 0.7352941176470589, 'gini = 0.0\\nsamples = 6\\nvalue = [6, 0]'),\n",
       " Text(0.7300955414012739, 0.7352941176470589, 'gini = 0.0\\nsamples = 1\\nvalue = [0, 1]'),\n",
       " Text(0.8156847133757962, 0.7941176470588235, 'x[2] <= 786.6\\ngini = 0.432\\nsamples = 152\\nvalue = [48, 104]'),\n",
       " Text(0.7555732484076433, 0.7352941176470589, 'x[0] <= 93.45\\ngini = 0.413\\nsamples = 144\\nvalue = [42, 102]'),\n",
       " Text(0.6735668789808917, 0.6764705882352942, 'x[0] <= 91.75\\ngini = 0.362\\nsamples = 97\\nvalue = [23, 74]'),\n",
       " Text(0.6401273885350318, 0.6176470588235294, 'x[2] <= 758.9\\ngini = 0.454\\nsamples = 43\\nvalue = [15, 28]'),\n",
       " Text(0.6273885350318471, 0.5588235294117647, 'x[5] <= 56.5\\ngini = 0.433\\nsamples = 41\\nvalue = [13, 28]'),\n",
       " Text(0.5859872611464968, 0.5, 'x[3] <= 6.9\\ngini = 0.394\\nsamples = 37\\nvalue = [10, 27]'),\n",
       " Text(0.5414012738853503, 0.4411764705882353, 'x[3] <= 4.35\\ngini = 0.219\\nsamples = 16\\nvalue = [2, 14]'),\n",
       " Text(0.5286624203821656, 0.38235294117647056, 'x[2] <= 668.75\\ngini = 0.48\\nsamples = 5\\nvalue = [2, 3]'),\n",
       " Text(0.5159235668789809, 0.3235294117647059, 'gini = 0.0\\nsamples = 2\\nvalue = [0, 2]'),\n",
       " Text(0.5414012738853503, 0.3235294117647059, 'x[7] <= 31.0\\ngini = 0.444\\nsamples = 3\\nvalue = [2, 1]'),\n",
       " Text(0.5286624203821656, 0.2647058823529412, 'gini = 0.0\\nsamples = 1\\nvalue = [0, 1]'),\n",
       " Text(0.554140127388535, 0.2647058823529412, 'gini = 0.0\\nsamples = 2\\nvalue = [2, 0]'),\n",
       " Text(0.554140127388535, 0.38235294117647056, 'gini = 0.0\\nsamples = 11\\nvalue = [0, 11]'),\n",
       " Text(0.6305732484076433, 0.4411764705882353, 'x[6] <= 3.35\\ngini = 0.472\\nsamples = 21\\nvalue = [8, 13]'),\n",
       " Text(0.6050955414012739, 0.38235294117647056, 'x[5] <= 44.0\\ngini = 0.48\\nsamples = 10\\nvalue = [6, 4]'),\n",
       " Text(0.5923566878980892, 0.3235294117647059, 'x[6] <= 1.35\\ngini = 0.49\\nsamples = 7\\nvalue = [3, 4]'),\n",
       " Text(0.5796178343949044, 0.2647058823529412, 'gini = 0.0\\nsamples = 1\\nvalue = [1, 0]'),\n",
       " Text(0.6050955414012739, 0.2647058823529412, 'x[2] <= 689.55\\ngini = 0.444\\nsamples = 6\\nvalue = [2, 4]'),\n",
       " Text(0.5923566878980892, 0.20588235294117646, 'gini = 0.0\\nsamples = 3\\nvalue = [0, 3]'),\n",
       " Text(0.6178343949044586, 0.20588235294117646, 'x[4] <= 21.65\\ngini = 0.444\\nsamples = 3\\nvalue = [2, 1]'),\n",
       " Text(0.6050955414012739, 0.14705882352941177, 'gini = 0.0\\nsamples = 2\\nvalue = [2, 0]'),\n",
       " Text(0.6305732484076433, 0.14705882352941177, 'gini = 0.0\\nsamples = 1\\nvalue = [0, 1]'),\n",
       " Text(0.6178343949044586, 0.3235294117647059, 'gini = 0.0\\nsamples = 3\\nvalue = [3, 0]'),\n",
       " Text(0.6560509554140127, 0.38235294117647056, 'x[4] <= 26.05\\ngini = 0.298\\nsamples = 11\\nvalue = [2, 9]'),\n",
       " Text(0.643312101910828, 0.3235294117647059, 'x[7] <= 53.0\\ngini = 0.18\\nsamples = 10\\nvalue = [1, 9]'),\n",
       " Text(0.6305732484076433, 0.2647058823529412, 'gini = 0.0\\nsamples = 8\\nvalue = [0, 8]'),\n",
       " Text(0.6560509554140127, 0.2647058823529412, 'x[4] <= 20.5\\ngini = 0.5\\nsamples = 2\\nvalue = [1, 1]'),\n",
       " Text(0.643312101910828, 0.20588235294117646, 'gini = 0.0\\nsamples = 1\\nvalue = [0, 1]'),\n",
       " Text(0.6687898089171974, 0.20588235294117646, 'gini = 0.0\\nsamples = 1\\nvalue = [1, 0]'),\n",
       " Text(0.6687898089171974, 0.3235294117647059, 'gini = 0.0\\nsamples = 1\\nvalue = [1, 0]'),\n",
       " Text(0.6687898089171974, 0.5, 'x[3] <= 6.75\\ngini = 0.375\\nsamples = 4\\nvalue = [3, 1]'),\n",
       " Text(0.6560509554140127, 0.4411764705882353, 'gini = 0.0\\nsamples = 3\\nvalue = [3, 0]'),\n",
       " Text(0.6815286624203821, 0.4411764705882353, 'gini = 0.0\\nsamples = 1\\nvalue = [0, 1]'),\n",
       " Text(0.6528662420382165, 0.5588235294117647, 'gini = 0.0\\nsamples = 2\\nvalue = [2, 0]'),\n",
       " Text(0.7070063694267515, 0.6176470588235294, 'x[7] <= 16.0\\ngini = 0.252\\nsamples = 54\\nvalue = [8, 46]'),\n",
       " Text(0.6942675159235668, 0.5588235294117647, 'gini = 0.0\\nsamples = 1\\nvalue = [1, 0]'),\n",
       " Text(0.7197452229299363, 0.5588235294117647, 'x[4] <= 23.25\\ngini = 0.229\\nsamples = 53\\nvalue = [7, 46]'),\n",
       " Text(0.7070063694267515, 0.5, 'gini = 0.0\\nsamples = 21\\nvalue = [0, 21]'),\n",
       " Text(0.732484076433121, 0.5, 'x[4] <= 23.35\\ngini = 0.342\\nsamples = 32\\nvalue = [7, 25]'),\n",
       " Text(0.7197452229299363, 0.4411764705882353, 'gini = 0.0\\nsamples = 1\\nvalue = [1, 0]'),\n",
       " Text(0.7452229299363057, 0.4411764705882353, 'x[1] <= 135.15\\ngini = 0.312\\nsamples = 31\\nvalue = [6, 25]'),\n",
       " Text(0.7197452229299363, 0.38235294117647056, 'x[6] <= 2.0\\ngini = 0.444\\nsamples = 15\\nvalue = [5, 10]'),\n",
       " Text(0.7070063694267515, 0.3235294117647059, 'gini = 0.0\\nsamples = 1\\nvalue = [1, 0]'),\n",
       " Text(0.732484076433121, 0.3235294117647059, 'x[6] <= 4.7\\ngini = 0.408\\nsamples = 14\\nvalue = [4, 10]'),\n",
       " Text(0.7197452229299363, 0.2647058823529412, 'x[1] <= 117.75\\ngini = 0.463\\nsamples = 11\\nvalue = [4, 7]'),\n",
       " Text(0.6942675159235668, 0.20588235294117646, 'x[1] <= 104.05\\ngini = 0.375\\nsamples = 8\\nvalue = [2, 6]'),\n",
       " Text(0.6815286624203821, 0.14705882352941177, 'x[4] <= 23.85\\ngini = 0.48\\nsamples = 5\\nvalue = [2, 3]'),\n",
       " Text(0.6687898089171974, 0.08823529411764706, 'gini = 0.0\\nsamples = 1\\nvalue = [0, 1]'),\n",
       " Text(0.6942675159235668, 0.08823529411764706, 'x[6] <= 3.8\\ngini = 0.5\\nsamples = 4\\nvalue = [2, 2]'),\n",
       " Text(0.6815286624203821, 0.029411764705882353, 'gini = 0.5\\nsamples = 2\\nvalue = [1, 1]'),\n",
       " Text(0.7070063694267515, 0.029411764705882353, 'gini = 0.5\\nsamples = 2\\nvalue = [1, 1]'),\n",
       " Text(0.7070063694267515, 0.14705882352941177, 'gini = 0.0\\nsamples = 3\\nvalue = [0, 3]'),\n",
       " Text(0.7452229299363057, 0.20588235294117646, 'x[1] <= 127.2\\ngini = 0.444\\nsamples = 3\\nvalue = [2, 1]'),\n",
       " Text(0.732484076433121, 0.14705882352941177, 'gini = 0.0\\nsamples = 1\\nvalue = [1, 0]'),\n",
       " Text(0.7579617834394905, 0.14705882352941177, 'gini = 0.5\\nsamples = 2\\nvalue = [1, 1]'),\n",
       " Text(0.7452229299363057, 0.2647058823529412, 'gini = 0.0\\nsamples = 3\\nvalue = [0, 3]'),\n",
       " Text(0.7707006369426752, 0.38235294117647056, 'x[2] <= 617.0\\ngini = 0.117\\nsamples = 16\\nvalue = [1, 15]'),\n",
       " Text(0.7579617834394905, 0.3235294117647059, 'gini = 0.0\\nsamples = 1\\nvalue = [1, 0]'),\n",
       " Text(0.7834394904458599, 0.3235294117647059, 'gini = 0.0\\nsamples = 15\\nvalue = [0, 15]'),\n",
       " Text(0.8375796178343949, 0.6764705882352942, 'x[1] <= 100.6\\ngini = 0.482\\nsamples = 47\\nvalue = [19, 28]'),\n",
       " Text(0.8248407643312102, 0.6176470588235294, 'gini = 0.0\\nsamples = 6\\nvalue = [0, 6]'),\n",
       " Text(0.8503184713375797, 0.6176470588235294, 'x[7] <= 29.5\\ngini = 0.497\\nsamples = 41\\nvalue = [19, 22]'),\n",
       " Text(0.7834394904458599, 0.5588235294117647, 'x[0] <= 95.05\\ngini = 0.397\\nsamples = 11\\nvalue = [8, 3]'),\n",
       " Text(0.7707006369426752, 0.5, 'gini = 0.0\\nsamples = 5\\nvalue = [5, 0]'),\n",
       " Text(0.7961783439490446, 0.5, 'x[7] <= 24.5\\ngini = 0.5\\nsamples = 6\\nvalue = [3, 3]'),\n",
       " Text(0.7834394904458599, 0.4411764705882353, 'gini = 0.0\\nsamples = 2\\nvalue = [0, 2]'),\n",
       " Text(0.8089171974522293, 0.4411764705882353, 'x[1] <= 199.4\\ngini = 0.375\\nsamples = 4\\nvalue = [3, 1]'),\n",
       " Text(0.7961783439490446, 0.38235294117647056, 'gini = 0.0\\nsamples = 3\\nvalue = [3, 0]'),\n",
       " Text(0.821656050955414, 0.38235294117647056, 'gini = 0.0\\nsamples = 1\\nvalue = [0, 1]'),\n",
       " Text(0.9171974522292994, 0.5588235294117647, 'x[0] <= 94.35\\ngini = 0.464\\nsamples = 30\\nvalue = [11, 19]'),\n",
       " Text(0.8853503184713376, 0.5, 'x[7] <= 33.5\\ngini = 0.5\\nsamples = 16\\nvalue = [8, 8]'),\n",
       " Text(0.8598726114649682, 0.4411764705882353, 'x[4] <= 23.3\\ngini = 0.32\\nsamples = 5\\nvalue = [1, 4]'),\n",
       " Text(0.8471337579617835, 0.38235294117647056, 'gini = 0.0\\nsamples = 1\\nvalue = [1, 0]'),\n",
       " Text(0.8726114649681529, 0.38235294117647056, 'gini = 0.0\\nsamples = 4\\nvalue = [0, 4]'),\n",
       " Text(0.910828025477707, 0.4411764705882353, 'x[6] <= 6.5\\ngini = 0.463\\nsamples = 11\\nvalue = [7, 4]'),\n",
       " Text(0.8980891719745223, 0.38235294117647056, 'x[6] <= 3.8\\ngini = 0.346\\nsamples = 9\\nvalue = [7, 2]'),\n",
       " Text(0.8853503184713376, 0.3235294117647059, 'x[4] <= 21.6\\ngini = 0.5\\nsamples = 4\\nvalue = [2, 2]'),\n",
       " Text(0.8726114649681529, 0.2647058823529412, 'gini = 0.0\\nsamples = 1\\nvalue = [0, 1]'),\n",
       " Text(0.8980891719745223, 0.2647058823529412, 'x[5] <= 40.0\\ngini = 0.444\\nsamples = 3\\nvalue = [2, 1]'),\n",
       " Text(0.8853503184713376, 0.20588235294117646, 'gini = 0.0\\nsamples = 1\\nvalue = [0, 1]'),\n",
       " Text(0.910828025477707, 0.20588235294117646, 'gini = 0.0\\nsamples = 2\\nvalue = [2, 0]'),\n",
       " Text(0.910828025477707, 0.3235294117647059, 'gini = 0.0\\nsamples = 5\\nvalue = [5, 0]'),\n",
       " Text(0.9235668789808917, 0.38235294117647056, 'gini = 0.0\\nsamples = 2\\nvalue = [0, 2]'),\n",
       " Text(0.9490445859872612, 0.5, 'x[0] <= 95.15\\ngini = 0.337\\nsamples = 14\\nvalue = [3, 11]'),\n",
       " Text(0.9363057324840764, 0.4411764705882353, 'gini = 0.0\\nsamples = 8\\nvalue = [0, 8]'),\n",
       " Text(0.9617834394904459, 0.4411764705882353, 'x[4] <= 22.5\\ngini = 0.5\\nsamples = 6\\nvalue = [3, 3]'),\n",
       " Text(0.9490445859872612, 0.38235294117647056, 'gini = 0.0\\nsamples = 2\\nvalue = [0, 2]'),\n",
       " Text(0.9745222929936306, 0.38235294117647056, 'x[6] <= 3.55\\ngini = 0.375\\nsamples = 4\\nvalue = [3, 1]'),\n",
       " Text(0.9617834394904459, 0.3235294117647059, 'gini = 0.0\\nsamples = 1\\nvalue = [0, 1]'),\n",
       " Text(0.9872611464968153, 0.3235294117647059, 'gini = 0.0\\nsamples = 3\\nvalue = [3, 0]'),\n",
       " Text(0.8757961783439491, 0.7352941176470589, 'x[6] <= 2.0\\ngini = 0.375\\nsamples = 8\\nvalue = [6, 2]'),\n",
       " Text(0.8630573248407644, 0.6764705882352942, 'gini = 0.0\\nsamples = 1\\nvalue = [0, 1]'),\n",
       " Text(0.8885350318471338, 0.6764705882352942, 'x[7] <= 44.5\\ngini = 0.245\\nsamples = 7\\nvalue = [6, 1]'),\n",
       " Text(0.8757961783439491, 0.6176470588235294, 'gini = 0.0\\nsamples = 6\\nvalue = [6, 0]'),\n",
       " Text(0.9012738853503185, 0.6176470588235294, 'gini = 0.0\\nsamples = 1\\nvalue = [0, 1]')]"
      ]
     },
     "execution_count": 45,
     "metadata": {},
     "output_type": "execute_result"
    },
    {
     "data": {
      "image/png": "[encoded data removed]",
      "text/plain": [
       "<Figure size 640x480 with 1 Axes>"
      ]
     },
     "metadata": {},
     "output_type": "display_data"
    }
   ],
   "source": [
    "tree.plot_tree(clf)"
   ]
  },
  {
   "cell_type": "code",
   "execution_count": 46,
   "id": "d70fa1e6",
   "metadata": {
    "collapsed": true
   },
   "outputs": [
    {
     "data": {
      "text/plain": [
       "array(['large', 'small', 'large', 'small', 'small', 'small', 'small',\n",
       "       'small', 'small', 'small', 'small', 'small', 'large', 'large',\n",
       "       'small', 'small', 'small', 'small', 'small', 'small', 'large',\n",
       "       'small', 'small', 'small', 'small', 'large', 'large', 'small',\n",
       "       'large', 'large', 'large', 'small', 'small', 'large', 'small',\n",
       "       'small', 'large', 'small', 'small', 'small', 'small', 'small',\n",
       "       'small', 'large', 'large', 'small', 'small', 'small', 'small',\n",
       "       'large', 'small', 'small', 'large', 'small', 'small', 'small',\n",
       "       'large', 'small', 'small', 'small', 'small', 'small', 'small',\n",
       "       'small', 'small', 'small', 'small', 'small', 'small', 'large',\n",
       "       'large', 'small', 'large', 'small', 'large', 'small', 'small',\n",
       "       'large', 'large', 'small', 'large', 'large', 'small', 'large',\n",
       "       'small', 'small', 'small', 'small', 'small', 'large', 'small',\n",
       "       'small', 'small', 'small', 'large', 'small', 'small', 'small',\n",
       "       'small', 'small', 'small', 'large', 'small', 'small', 'small',\n",
       "       'small', 'small', 'large', 'small', 'small', 'small', 'large',\n",
       "       'large', 'small', 'large', 'small', 'small', 'large', 'small',\n",
       "       'small', 'small', 'small', 'small', 'small', 'small', 'small',\n",
       "       'small', 'large', 'large', 'small', 'small', 'large', 'large',\n",
       "       'small', 'small', 'small', 'small', 'small', 'large', 'large',\n",
       "       'large', 'small', 'large', 'small', 'small', 'small', 'small',\n",
       "       'small', 'large', 'small', 'small', 'small', 'small', 'large',\n",
       "       'small', 'small'], dtype=object)"
      ]
     },
     "execution_count": 46,
     "metadata": {},
     "output_type": "execute_result"
    }
   ],
   "source": [
    "pred1= clf.predict(x_test)\n",
    "pred1"
   ]
  },
  {
   "cell_type": "code",
   "execution_count": 49,
   "id": "27fae284",
   "metadata": {},
   "outputs": [
    {
     "data": {
      "text/plain": [
       "array([[14, 24],\n",
       "       [30, 88]], dtype=int64)"
      ]
     },
     "execution_count": 49,
     "metadata": {},
     "output_type": "execute_result"
    }
   ],
   "source": [
    "result =confusion_matrix(y_test,pred1)\n",
    "result"
   ]
  },
  {
   "cell_type": "code",
   "execution_count": 54,
   "id": "f28aa4e7",
   "metadata": {},
   "outputs": [
    {
     "data": {
      "image/png": "[encoded data removed]",
      "text/plain": [
       "<Figure size 640x480 with 2 Axes>"
      ]
     },
     "metadata": {},
     "output_type": "display_data"
    }
   ],
   "source": [
    "ConfusionMatrixDisplay(result,display_labels=clf.classes_).plot()\n",
    "plt.show()"
   ]
  },
  {
   "cell_type": "code",
   "execution_count": 56,
   "id": "2a79d73a",
   "metadata": {},
   "outputs": [
    {
     "data": {
      "text/plain": [
       "0.6538461538461539"
      ]
     },
     "execution_count": 56,
     "metadata": {},
     "output_type": "execute_result"
    }
   ],
   "source": [
    "accuracy_score(y_test,pred1)"
   ]
  },
  {
   "cell_type": "code",
   "execution_count": 57,
   "id": "9b87ed6f",
   "metadata": {},
   "outputs": [],
   "source": [
    "from sklearn.ensemble import RandomForestClassifier"
   ]
  },
  {
   "cell_type": "code",
   "execution_count": 58,
   "id": "409c4c80",
   "metadata": {},
   "outputs": [],
   "source": [
    "model2 = RandomForestClassifier(criterion='gini')\n",
    "clf2 = model2.fit(x_train,y_train)"
   ]
  },
  {
   "cell_type": "code",
   "execution_count": 59,
   "id": "f35e16ae",
   "metadata": {
    "collapsed": true
   },
   "outputs": [
    {
     "data": {
      "text/plain": [
       "array(['small', 'small', 'small', 'small', 'small', 'small', 'small',\n",
       "       'small', 'small', 'small', 'small', 'small', 'small', 'large',\n",
       "       'small', 'small', 'small', 'small', 'small', 'small', 'large',\n",
       "       'small', 'small', 'small', 'small', 'small', 'small', 'small',\n",
       "       'large', 'small', 'small', 'small', 'small', 'small', 'small',\n",
       "       'small', 'small', 'small', 'small', 'small', 'small', 'small',\n",
       "       'small', 'small', 'small', 'small', 'small', 'small', 'small',\n",
       "       'large', 'small', 'small', 'small', 'small', 'small', 'small',\n",
       "       'small', 'small', 'small', 'small', 'small', 'small', 'small',\n",
       "       'small', 'small', 'small', 'small', 'small', 'large', 'small',\n",
       "       'large', 'small', 'small', 'small', 'large', 'small', 'small',\n",
       "       'small', 'small', 'small', 'small', 'small', 'small', 'large',\n",
       "       'small', 'small', 'small', 'small', 'small', 'small', 'small',\n",
       "       'small', 'small', 'small', 'large', 'small', 'large', 'small',\n",
       "       'small', 'small', 'small', 'large', 'small', 'small', 'small',\n",
       "       'small', 'small', 'small', 'small', 'small', 'small', 'large',\n",
       "       'small', 'small', 'small', 'small', 'small', 'small', 'large',\n",
       "       'small', 'small', 'small', 'small', 'small', 'small', 'small',\n",
       "       'small', 'small', 'small', 'small', 'small', 'large', 'small',\n",
       "       'small', 'small', 'small', 'small', 'small', 'small', 'large',\n",
       "       'large', 'small', 'small', 'small', 'small', 'small', 'small',\n",
       "       'small', 'small', 'small', 'small', 'small', 'small', 'large',\n",
       "       'small', 'small'], dtype=object)"
      ]
     },
     "execution_count": 59,
     "metadata": {},
     "output_type": "execute_result"
    }
   ],
   "source": [
    "pred2 = clf2.predict(x_test)\n",
    "pred2"
   ]
  },
  {
   "cell_type": "code",
   "execution_count": 60,
   "id": "c7f38003",
   "metadata": {},
   "outputs": [
    {
     "data": {
      "text/plain": [
       "array([[  7,  31],\n",
       "       [ 10, 108]], dtype=int64)"
      ]
     },
     "execution_count": 60,
     "metadata": {},
     "output_type": "execute_result"
    }
   ],
   "source": [
    "result2 = confusion_matrix(y_test,pred2)\n",
    "result2"
   ]
  },
  {
   "cell_type": "code",
   "execution_count": 74,
   "id": "b69c68d7",
   "metadata": {},
   "outputs": [
    {
     "data": {
      "text/plain": [
       "<function matplotlib.pyplot.show(close=None, block=None)>"
      ]
     },
     "execution_count": 74,
     "metadata": {},
     "output_type": "execute_result"
    },
    {
     "data": {
      "image/png": "[encoded data removed]",
      "text/plain": [
       "<Figure size 640x480 with 2 Axes>"
      ]
     },
     "metadata": {},
     "output_type": "display_data"
    }
   ],
   "source": [
    "ConfusionMatrixDisplay(result2,display_labels = clf2.classes_).plot()\n",
    "plt.show"
   ]
  },
  {
   "cell_type": "code",
   "execution_count": 75,
   "id": "9c430aed",
   "metadata": {},
   "outputs": [
    {
     "data": {
      "text/plain": [
       "array([0.10670874, 0.12634781, 0.12920446, 0.10444012, 0.17439418,\n",
       "       0.12427643, 0.11345973, 0.12116854])"
      ]
     },
     "execution_count": 75,
     "metadata": {},
     "output_type": "execute_result"
    }
   ],
   "source": [
    "clf2.feature_importances_"
   ]
  },
  {
   "cell_type": "code",
   "execution_count": 77,
   "id": "186e0bf5",
   "metadata": {},
   "outputs": [
    {
     "data": {
      "text/plain": [
       "<Axes: >"
      ]
     },
     "execution_count": 77,
     "metadata": {},
     "output_type": "execute_result"
    },
    {
     "data": {
      "image/png": "[encoded data removed]",
      "text/plain": [
       "<Figure size 640x480 with 1 Axes>"
      ]
     },
     "metadata": {},
     "output_type": "display_data"
    }
   ],
   "source": [
    "feat_impt = pd.Series(clf2.feature_importances_, index = x.columns)\n",
    "feat_impt.plot(kind = 'barh')"
   ]
  },
  {
   "cell_type": "code",
   "execution_count": 78,
   "id": "fe061a52",
   "metadata": {},
   "outputs": [
    {
     "data": {
      "text/html": [
       "<div>\n",
       "<style scoped>\n",
       "    .dataframe tbody tr th:only-of-type {\n",
       "        vertical-align: middle;\n",
       "    }\n",
       "\n",
       "    .dataframe tbody tr th {\n",
       "        vertical-align: top;\n",
       "    }\n",
       "\n",
       "    .dataframe thead th {\n",
       "        text-align: right;\n",
       "    }\n",
       "</style>\n",
       "<table border=\"1\" class=\"dataframe\">\n",
       "  <thead>\n",
       "    <tr style=\"text-align: right;\">\n",
       "      <th></th>\n",
       "      <th>FFMC</th>\n",
       "      <th>DMC</th>\n",
       "      <th>DC</th>\n",
       "      <th>ISI</th>\n",
       "      <th>temp</th>\n",
       "      <th>RH</th>\n",
       "      <th>wind</th>\n",
       "      <th>RH</th>\n",
       "    </tr>\n",
       "  </thead>\n",
       "  <tbody>\n",
       "    <tr>\n",
       "      <th>FFMC</th>\n",
       "      <td>1.000000</td>\n",
       "      <td>0.382619</td>\n",
       "      <td>0.330512</td>\n",
       "      <td>0.531805</td>\n",
       "      <td>0.431532</td>\n",
       "      <td>-0.300995</td>\n",
       "      <td>-0.028485</td>\n",
       "      <td>-0.300995</td>\n",
       "    </tr>\n",
       "    <tr>\n",
       "      <th>DMC</th>\n",
       "      <td>0.382619</td>\n",
       "      <td>1.000000</td>\n",
       "      <td>0.682192</td>\n",
       "      <td>0.305128</td>\n",
       "      <td>0.469594</td>\n",
       "      <td>0.073795</td>\n",
       "      <td>-0.105342</td>\n",
       "      <td>0.073795</td>\n",
       "    </tr>\n",
       "    <tr>\n",
       "      <th>DC</th>\n",
       "      <td>0.330512</td>\n",
       "      <td>0.682192</td>\n",
       "      <td>1.000000</td>\n",
       "      <td>0.229154</td>\n",
       "      <td>0.496208</td>\n",
       "      <td>-0.039192</td>\n",
       "      <td>-0.203466</td>\n",
       "      <td>-0.039192</td>\n",
       "    </tr>\n",
       "    <tr>\n",
       "      <th>ISI</th>\n",
       "      <td>0.531805</td>\n",
       "      <td>0.305128</td>\n",
       "      <td>0.229154</td>\n",
       "      <td>1.000000</td>\n",
       "      <td>0.394287</td>\n",
       "      <td>-0.132517</td>\n",
       "      <td>0.106826</td>\n",
       "      <td>-0.132517</td>\n",
       "    </tr>\n",
       "    <tr>\n",
       "      <th>temp</th>\n",
       "      <td>0.431532</td>\n",
       "      <td>0.469594</td>\n",
       "      <td>0.496208</td>\n",
       "      <td>0.394287</td>\n",
       "      <td>1.000000</td>\n",
       "      <td>-0.527390</td>\n",
       "      <td>-0.227116</td>\n",
       "      <td>-0.527390</td>\n",
       "    </tr>\n",
       "    <tr>\n",
       "      <th>RH</th>\n",
       "      <td>-0.300995</td>\n",
       "      <td>0.073795</td>\n",
       "      <td>-0.039192</td>\n",
       "      <td>-0.132517</td>\n",
       "      <td>-0.527390</td>\n",
       "      <td>1.000000</td>\n",
       "      <td>0.069410</td>\n",
       "      <td>1.000000</td>\n",
       "    </tr>\n",
       "    <tr>\n",
       "      <th>wind</th>\n",
       "      <td>-0.028485</td>\n",
       "      <td>-0.105342</td>\n",
       "      <td>-0.203466</td>\n",
       "      <td>0.106826</td>\n",
       "      <td>-0.227116</td>\n",
       "      <td>0.069410</td>\n",
       "      <td>1.000000</td>\n",
       "      <td>0.069410</td>\n",
       "    </tr>\n",
       "    <tr>\n",
       "      <th>RH</th>\n",
       "      <td>-0.300995</td>\n",
       "      <td>0.073795</td>\n",
       "      <td>-0.039192</td>\n",
       "      <td>-0.132517</td>\n",
       "      <td>-0.527390</td>\n",
       "      <td>1.000000</td>\n",
       "      <td>0.069410</td>\n",
       "      <td>1.000000</td>\n",
       "    </tr>\n",
       "  </tbody>\n",
       "</table>\n",
       "</div>"
      ],
      "text/plain": [
       "          FFMC       DMC        DC       ISI      temp        RH      wind  \\\n",
       "FFMC  1.000000  0.382619  0.330512  0.531805  0.431532 -0.300995 -0.028485   \n",
       "DMC   0.382619  1.000000  0.682192  0.305128  0.469594  0.073795 -0.105342   \n",
       "DC    0.330512  0.682192  1.000000  0.229154  0.496208 -0.039192 -0.203466   \n",
       "ISI   0.531805  0.305128  0.229154  1.000000  0.394287 -0.132517  0.106826   \n",
       "temp  0.431532  0.469594  0.496208  0.394287  1.000000 -0.527390 -0.227116   \n",
       "RH   -0.300995  0.073795 -0.039192 -0.132517 -0.527390  1.000000  0.069410   \n",
       "wind -0.028485 -0.105342 -0.203466  0.106826 -0.227116  0.069410  1.000000   \n",
       "RH   -0.300995  0.073795 -0.039192 -0.132517 -0.527390  1.000000  0.069410   \n",
       "\n",
       "            RH  \n",
       "FFMC -0.300995  \n",
       "DMC   0.073795  \n",
       "DC   -0.039192  \n",
       "ISI  -0.132517  \n",
       "temp -0.527390  \n",
       "RH    1.000000  \n",
       "wind  0.069410  \n",
       "RH    1.000000  "
      ]
     },
     "execution_count": 78,
     "metadata": {},
     "output_type": "execute_result"
    }
   ],
   "source": [
    "x.corr()"
   ]
  }
 ],
 "metadata": {
  "kernelspec": {
   "display_name": "Python 3 (ipykernel)",
   "language": "python",
   "name": "python3"
  },
  "language_info": {
   "codemirror_mode": {
    "name": "ipython",
    "version": 3
   },
   "file_extension": ".py",
   "mimetype": "text/x-python",
   "name": "python",
   "nbconvert_exporter": "python",
   "pygments_lexer": "ipython3",
   "version": "3.10.9"
  }
 },
 "nbformat": 4,
 "nbformat_minor": 5
}
